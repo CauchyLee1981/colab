{
  "nbformat": 4,
  "nbformat_minor": 0,
  "metadata": {
    "colab": {
      "name": "wordToText.ipynb",
      "provenance": [],
      "collapsed_sections": [],
      "include_colab_link": true
    },
    "kernelspec": {
      "name": "python3",
      "display_name": "Python 3"
    },
    "accelerator": "GPU"
  },
  "cells": [
    {
      "cell_type": "markdown",
      "metadata": {
        "id": "view-in-github",
        "colab_type": "text"
      },
      "source": [
        "<a href=\"https://colab.research.google.com/github/CauchyLee1981/colab/blob/master/wordToText.ipynb\" target=\"_parent\"><img src=\"https://colab.research.google.com/assets/colab-badge.svg\" alt=\"Open In Colab\"/></a>"
      ]
    },
    {
      "cell_type": "code",
      "metadata": {
        "id": "lKgxd2CjmD-v",
        "colab_type": "code",
        "colab": {}
      },
      "source": [
        ""
      ],
      "execution_count": 0,
      "outputs": []
    },
    {
      "cell_type": "code",
      "metadata": {
        "id": "vnPD0VjZmORF",
        "colab_type": "code",
        "outputId": "de043bcf-8ff4-417b-d0f9-6a00124a54f1",
        "colab": {
          "base_uri": "https://localhost:8080/",
          "height": 122
        }
      },
      "source": [
        "from google.colab import drive\n",
        "drive.mount('/content/drive')"
      ],
      "execution_count": 1,
      "outputs": [
        {
          "output_type": "stream",
          "text": [
            "Go to this URL in a browser: https://accounts.google.com/o/oauth2/auth?client_id=947318989803-6bn6qk8qdgf4n4g3pfee6491hc0brc4i.apps.googleusercontent.com&redirect_uri=urn%3Aietf%3Awg%3Aoauth%3A2.0%3Aoob&scope=email%20https%3A%2F%2Fwww.googleapis.com%2Fauth%2Fdocs.test%20https%3A%2F%2Fwww.googleapis.com%2Fauth%2Fdrive%20https%3A%2F%2Fwww.googleapis.com%2Fauth%2Fdrive.photos.readonly%20https%3A%2F%2Fwww.googleapis.com%2Fauth%2Fpeopleapi.readonly&response_type=code\n",
            "\n",
            "Enter your authorization code:\n",
            "··········\n",
            "Mounted at /content/drive\n"
          ],
          "name": "stdout"
        }
      ]
    },
    {
      "cell_type": "code",
      "metadata": {
        "id": "KNh09kglvdS_",
        "colab_type": "code",
        "outputId": "8aa39cf6-b614-4fce-fef5-0c04a1121f3e",
        "colab": {
          "base_uri": "https://localhost:8080/",
          "height": 34
        }
      },
      "source": [
        "cd drive/My\\ Drive/Colab\\ Notebooks"
      ],
      "execution_count": 2,
      "outputs": [
        {
          "output_type": "stream",
          "text": [
            "/content/drive/My Drive/Colab Notebooks\n"
          ],
          "name": "stdout"
        }
      ]
    },
    {
      "cell_type": "code",
      "metadata": {
        "id": "dTFygp2HmOww",
        "colab_type": "code",
        "outputId": "29465099-5f28-4591-8444-d546dd171625",
        "colab": {
          "base_uri": "https://localhost:8080/",
          "height": 1000
        }
      },
      "source": [
        "import os\n",
        "import numpy as np\n",
        "from keras.utils import np_utils\n",
        "\n",
        "\n",
        "def my_generator(path=\"data\", batch_size=50, n_classes=2, frame_num=32, shift=8):\n",
        "    key_point=25\n",
        "    channel=3\n",
        "    \n",
        "    if not os.path.exists(path):\n",
        "        print(path, \"is not exist\\n\")\n",
        "        return\n",
        "\n",
        "    train_data = []\n",
        "    counter = 0\n",
        "    for root, folders, _ in os.walk(path): break\n",
        "    print(root,folders)\n",
        "    while True:\n",
        "      for folder in folders:\n",
        "        for root2, _, files in os.walk(os.path.join(root, folder)): break\n",
        "        print(\"\\n\",root2,files)\n",
        "        for file in files:\n",
        "          with open(os.path.join(root2, file)) as tmp_file:\n",
        "            a = tmp_file.read()\n",
        "            b = np.array(a.split()).reshape(-1, key_point, channel)\n",
        "            for i in range(5):\n",
        "              start = i * shift +frame_num\n",
        "              end = start + frame_num\n",
        "              X = b[start:end]\n",
        "              X = X.reshape(1, frame_num, key_point, channel)\n",
        "              y = np_utils.to_categorical(int(folder), num_classes=n_classes)\n",
        "              y = y.reshape(1, len(y))\n",
        "              yield X, y\n",
        "\n",
        "\n",
        "\n",
        "gen = my_generator()\n",
        "i = 0\n",
        "\n",
        "for X,y in gen:\n",
        "  #print(X)\n",
        "  print(y)\n",
        "  if i >= 50: \n",
        "    break\n",
        "  else:\n",
        "    i=i+1\n"
      ],
      "execution_count": 12,
      "outputs": [
        {
          "output_type": "stream",
          "text": [
            "data ['000', '001']\n",
            "\n",
            " data/000 ['P01_01_00_4._body.txt', 'P01_01_00_0._body.txt', 'P01_01_00_3._body.txt', 'P01_01_00_2._body.txt', 'P01_01_00_1._body.txt']\n",
            "[[1. 0.]]\n",
            "[[1. 0.]]\n",
            "[[1. 0.]]\n",
            "[[1. 0.]]\n",
            "[[1. 0.]]\n",
            "[[1. 0.]]\n",
            "[[1. 0.]]\n",
            "[[1. 0.]]\n",
            "[[1. 0.]]\n",
            "[[1. 0.]]\n",
            "[[1. 0.]]\n",
            "[[1. 0.]]\n",
            "[[1. 0.]]\n",
            "[[1. 0.]]\n",
            "[[1. 0.]]\n",
            "[[1. 0.]]\n",
            "[[1. 0.]]\n",
            "[[1. 0.]]\n",
            "[[1. 0.]]\n",
            "[[1. 0.]]\n",
            "[[1. 0.]]\n",
            "[[1. 0.]]\n",
            "[[1. 0.]]\n",
            "[[1. 0.]]\n",
            "[[1. 0.]]\n",
            "\n",
            " data/001 ['P01_01_01_4._body.txt', 'P01_01_01_0._body.txt', 'P01_01_01_2._body.txt', 'P01_01_01_3._body.txt', 'P01_01_01_1._body.txt']\n",
            "[[0. 1.]]\n",
            "[[0. 1.]]\n",
            "[[0. 1.]]\n",
            "[[0. 1.]]\n",
            "[[0. 1.]]\n",
            "[[0. 1.]]\n",
            "[[0. 1.]]\n",
            "[[0. 1.]]\n",
            "[[0. 1.]]\n",
            "[[0. 1.]]\n",
            "[[0. 1.]]\n",
            "[[0. 1.]]\n",
            "[[0. 1.]]\n",
            "[[0. 1.]]\n",
            "[[0. 1.]]\n",
            "[[0. 1.]]\n",
            "[[0. 1.]]\n",
            "[[0. 1.]]\n",
            "[[0. 1.]]\n",
            "[[0. 1.]]\n",
            "[[0. 1.]]\n",
            "[[0. 1.]]\n",
            "[[0. 1.]]\n",
            "[[0. 1.]]\n",
            "[[0. 1.]]\n",
            "\n",
            " data/000 ['P01_01_00_4._body.txt', 'P01_01_00_0._body.txt', 'P01_01_00_3._body.txt', 'P01_01_00_2._body.txt', 'P01_01_00_1._body.txt']\n",
            "[[1. 0.]]\n"
          ],
          "name": "stdout"
        }
      ]
    },
    {
      "cell_type": "code",
      "metadata": {
        "id": "oa5OJ8Uf3lj6",
        "colab_type": "code",
        "colab": {}
      },
      "source": [
        ""
      ],
      "execution_count": 0,
      "outputs": []
    },
    {
      "cell_type": "code",
      "metadata": {
        "id": "-BykipiO3mP1",
        "colab_type": "code",
        "outputId": "6e1254a9-94a8-497f-ba39-7b3e8292a913",
        "colab": {
          "base_uri": "https://localhost:8080/",
          "height": 1000
        }
      },
      "source": [
        "import time\n",
        "\n",
        "import argparse\n",
        "import json\n",
        "import os\n",
        "\n",
        "from keras.callbacks import EarlyStopping, ReduceLROnPlateau\n",
        "from keras.layers import *\n",
        "from keras.layers.convolutional import *\n",
        "from keras.layers.core import *\n",
        "from keras.models import Model\n",
        "from keras.optimizers import adam\n",
        "\n",
        "\n",
        "def one_obj(frame_l=32, joint_n=25, joint_d=3, words_size=500):\n",
        "    input_joints = Input(name='joints', shape=(frame_l, joint_n, joint_d))\n",
        "\n",
        "    x = Conv2D(filters=64, kernel_size=(1, 1), padding='same')(input_joints)\n",
        "    x = BatchNormalization()(x)\n",
        "    x = LeakyReLU()(x)  # @LeakyReLU()(x)\n",
        "\n",
        "    x = Conv2D(filters=32, kernel_size=(3, 1), padding='same')(x)\n",
        "    x = BatchNormalization()(x)\n",
        "    x = LeakyReLU()(x)  # LeakyReLU()(x)\n",
        "\n",
        "    x = Permute((1, 3, 2))(x)\n",
        "\n",
        "    x = Conv2D(filters=32, kernel_size=(3, 3), padding='same')(x)\n",
        "    x = BatchNormalization()(x)\n",
        "    x = LeakyReLU()(x)  # LeakyReLU()(x)\n",
        "    x = MaxPool2D(pool_size=(2, 2))(x)\n",
        "    x = Conv2D(filters=64, kernel_size=(3, 3), padding='same')(x)\n",
        "    x = LeakyReLU()(x)  # BatchNormalization()(x)\n",
        "    x = MaxPool2D(pool_size=(2, 2))(x)\n",
        "\n",
        "    x = Conv2D(filters=128, kernel_size=(1, 1), padding='same')(x)\n",
        "    x = BatchNormalization()(x)\n",
        "    x = LeakyReLU()(x)  # LeakyReLU()(x)\n",
        "    x = MaxPool2D(pool_size=(2, 2))(x)\n",
        "    x = Dropout(0.1)(x)\n",
        "\n",
        "    x = Conv2D(filters=256, kernel_size=(1, 1), padding='same')(x)\n",
        "    x = BatchNormalization()(x)\n",
        "    x = LeakyReLU()(x)  # LeakyReLU()(x)\n",
        "    x = MaxPool2D(pool_size=(2, 2))(x)\n",
        "    x = Dropout(0.1)(x)\n",
        "    x = Flatten()(x)\n",
        "    x = Dense(256)(x)\n",
        "    x = LeakyReLU()(x)  # LeakyReLU()(x)\n",
        "    x = Dense(words_size, activation='softmax')(x)\n",
        "    return Model(input_joints, x)\n",
        "\n",
        "\n",
        "model = one_obj(32, 25, 3, 2)\n",
        "opt = adam(0.005, epsilon=1e-8)\n",
        "model.compile(opt, 'categorical_crossentropy', metrics=['acc'])\n",
        "model.summary()\n",
        "\n",
        "early = EarlyStopping(monitor=\"loss\", mode=\"min\", patience=10)\n",
        "lr_change = ReduceLROnPlateau(monitor=\"loss\", verbose=1, factor=0.2, patience=100, min_lr=1e-8, cooldown=100)\n",
        "lr_change.set_model(model)\n",
        "lr_change.on_train_begin()\n",
        "best_acc = 0.0\n",
        "\n",
        "\n",
        "\n",
        "\n",
        "\n"
      ],
      "execution_count": 14,
      "outputs": [
        {
          "output_type": "stream",
          "text": [
            "Model: \"model_3\"\n",
            "_________________________________________________________________\n",
            "Layer (type)                 Output Shape              Param #   \n",
            "=================================================================\n",
            "joints (InputLayer)          (None, 32, 25, 3)         0         \n",
            "_________________________________________________________________\n",
            "conv2d_13 (Conv2D)           (None, 32, 25, 64)        256       \n",
            "_________________________________________________________________\n",
            "batch_normalization_11 (Batc (None, 32, 25, 64)        256       \n",
            "_________________________________________________________________\n",
            "leaky_re_lu_15 (LeakyReLU)   (None, 32, 25, 64)        0         \n",
            "_________________________________________________________________\n",
            "conv2d_14 (Conv2D)           (None, 32, 25, 32)        6176      \n",
            "_________________________________________________________________\n",
            "batch_normalization_12 (Batc (None, 32, 25, 32)        128       \n",
            "_________________________________________________________________\n",
            "leaky_re_lu_16 (LeakyReLU)   (None, 32, 25, 32)        0         \n",
            "_________________________________________________________________\n",
            "permute_3 (Permute)          (None, 32, 32, 25)        0         \n",
            "_________________________________________________________________\n",
            "conv2d_15 (Conv2D)           (None, 32, 32, 32)        7232      \n",
            "_________________________________________________________________\n",
            "batch_normalization_13 (Batc (None, 32, 32, 32)        128       \n",
            "_________________________________________________________________\n",
            "leaky_re_lu_17 (LeakyReLU)   (None, 32, 32, 32)        0         \n",
            "_________________________________________________________________\n",
            "max_pooling2d_9 (MaxPooling2 (None, 16, 16, 32)        0         \n",
            "_________________________________________________________________\n",
            "conv2d_16 (Conv2D)           (None, 16, 16, 64)        18496     \n",
            "_________________________________________________________________\n",
            "leaky_re_lu_18 (LeakyReLU)   (None, 16, 16, 64)        0         \n",
            "_________________________________________________________________\n",
            "max_pooling2d_10 (MaxPooling (None, 8, 8, 64)          0         \n",
            "_________________________________________________________________\n",
            "conv2d_17 (Conv2D)           (None, 8, 8, 128)         8320      \n",
            "_________________________________________________________________\n",
            "batch_normalization_14 (Batc (None, 8, 8, 128)         512       \n",
            "_________________________________________________________________\n",
            "leaky_re_lu_19 (LeakyReLU)   (None, 8, 8, 128)         0         \n",
            "_________________________________________________________________\n",
            "max_pooling2d_11 (MaxPooling (None, 4, 4, 128)         0         \n",
            "_________________________________________________________________\n",
            "dropout_5 (Dropout)          (None, 4, 4, 128)         0         \n",
            "_________________________________________________________________\n",
            "conv2d_18 (Conv2D)           (None, 4, 4, 256)         33024     \n",
            "_________________________________________________________________\n",
            "batch_normalization_15 (Batc (None, 4, 4, 256)         1024      \n",
            "_________________________________________________________________\n",
            "leaky_re_lu_20 (LeakyReLU)   (None, 4, 4, 256)         0         \n",
            "_________________________________________________________________\n",
            "max_pooling2d_12 (MaxPooling (None, 2, 2, 256)         0         \n",
            "_________________________________________________________________\n",
            "dropout_6 (Dropout)          (None, 2, 2, 256)         0         \n",
            "_________________________________________________________________\n",
            "flatten_3 (Flatten)          (None, 1024)              0         \n",
            "_________________________________________________________________\n",
            "dense_5 (Dense)              (None, 256)               262400    \n",
            "_________________________________________________________________\n",
            "leaky_re_lu_21 (LeakyReLU)   (None, 256)               0         \n",
            "_________________________________________________________________\n",
            "dense_6 (Dense)              (None, 2)                 514       \n",
            "=================================================================\n",
            "Total params: 338,466\n",
            "Trainable params: 337,442\n",
            "Non-trainable params: 1,024\n",
            "_________________________________________________________________\n"
          ],
          "name": "stdout"
        }
      ]
    },
    {
      "cell_type": "code",
      "metadata": {
        "id": "Szmd2rmg3mVi",
        "colab_type": "code",
        "colab": {
          "base_uri": "https://localhost:8080/",
          "height": 1000
        },
        "outputId": "df71ed85-e41a-4cca-ee4b-53977ae5bd69"
      },
      "source": [
        "\n",
        "train_generator = my_generator()\n",
        "\n",
        "# Train model on dataset\n",
        "model.fit_generator(generator=train_generator,\n",
        "          steps_per_epoch=50,\n",
        "          epochs=20)"
      ],
      "execution_count": 16,
      "outputs": [
        {
          "output_type": "stream",
          "text": [
            "Epoch 1/20\n",
            " 1/50 [..............................] - ETA: 1s - loss: 1.1921e-07 - acc: 1.0000\n",
            " data/001 ['P01_01_01_4._body.txt', 'P01_01_01_0._body.txt', 'P01_01_01_2._body.txt', 'P01_01_01_3._body.txt', 'P01_01_01_1._body.txt']\n",
            "28/50 [===============>..............] - ETA: 0s - loss: 8.0590 - acc: 0.5000\n",
            " data/000 ['P01_01_00_4._body.txt', 'P01_01_00_0._body.txt', 'P01_01_00_3._body.txt', 'P01_01_00_2._body.txt', 'P01_01_00_1._body.txt']\n",
            "50/50 [==============================] - 1s 18ms/step - loss: 8.0590 - acc: 0.5000\n",
            "Epoch 2/20\n",
            " 1/50 [..............................] - ETA: 0s - loss: 1.1921e-07 - acc: 1.0000\n",
            " data/001 ['P01_01_01_4._body.txt', 'P01_01_01_0._body.txt', 'P01_01_01_2._body.txt', 'P01_01_01_3._body.txt', 'P01_01_01_1._body.txt']\n",
            "28/50 [===============>..............] - ETA: 0s - loss: 8.0590 - acc: 0.5000\n",
            " data/000 ['P01_01_00_4._body.txt', 'P01_01_00_0._body.txt', 'P01_01_00_3._body.txt', 'P01_01_00_2._body.txt', 'P01_01_00_1._body.txt']\n",
            "50/50 [==============================] - 1s 18ms/step - loss: 8.0590 - acc: 0.5000\n",
            "Epoch 3/20\n",
            " 1/50 [..............................] - ETA: 0s - loss: 1.1921e-07 - acc: 1.0000\n",
            " data/001 ['P01_01_01_4._body.txt', 'P01_01_01_0._body.txt', 'P01_01_01_2._body.txt', 'P01_01_01_3._body.txt', 'P01_01_01_1._body.txt']\n",
            "28/50 [===============>..............] - ETA: 0s - loss: 8.0590 - acc: 0.5000\n",
            " data/000 ['P01_01_00_4._body.txt', 'P01_01_00_0._body.txt', 'P01_01_00_3._body.txt', 'P01_01_00_2._body.txt', 'P01_01_00_1._body.txt']\n",
            "50/50 [==============================] - 1s 18ms/step - loss: 8.0590 - acc: 0.5000\n",
            "Epoch 4/20\n",
            " 1/50 [..............................] - ETA: 0s - loss: 1.1921e-07 - acc: 1.0000\n",
            " data/001 ['P01_01_01_4._body.txt', 'P01_01_01_0._body.txt', 'P01_01_01_2._body.txt', 'P01_01_01_3._body.txt', 'P01_01_01_1._body.txt']\n",
            "28/50 [===============>..............] - ETA: 0s - loss: 8.0590 - acc: 0.5000\n",
            " data/000 ['P01_01_00_4._body.txt', 'P01_01_00_0._body.txt', 'P01_01_00_3._body.txt', 'P01_01_00_2._body.txt', 'P01_01_00_1._body.txt']\n",
            "50/50 [==============================] - 1s 18ms/step - loss: 8.0590 - acc: 0.5000\n",
            "Epoch 5/20\n",
            " 1/50 [..............................] - ETA: 0s - loss: 1.1921e-07 - acc: 1.0000\n",
            " data/001 ['P01_01_01_4._body.txt', 'P01_01_01_0._body.txt', 'P01_01_01_2._body.txt', 'P01_01_01_3._body.txt', 'P01_01_01_1._body.txt']\n",
            "28/50 [===============>..............] - ETA: 0s - loss: 8.0590 - acc: 0.5000\n",
            " data/000 ['P01_01_00_4._body.txt', 'P01_01_00_0._body.txt', 'P01_01_00_3._body.txt', 'P01_01_00_2._body.txt', 'P01_01_00_1._body.txt']\n",
            "50/50 [==============================] - 1s 18ms/step - loss: 8.0590 - acc: 0.5000\n",
            "Epoch 6/20\n",
            " 1/50 [..............................] - ETA: 0s - loss: 1.1921e-07 - acc: 1.0000\n",
            " data/001 ['P01_01_01_4._body.txt', 'P01_01_01_0._body.txt', 'P01_01_01_2._body.txt', 'P01_01_01_3._body.txt', 'P01_01_01_1._body.txt']\n",
            "28/50 [===============>..............] - ETA: 0s - loss: 8.0590 - acc: 0.5000\n",
            " data/000 ['P01_01_00_4._body.txt', 'P01_01_00_0._body.txt', 'P01_01_00_3._body.txt', 'P01_01_00_2._body.txt', 'P01_01_00_1._body.txt']\n",
            "50/50 [==============================] - 1s 18ms/step - loss: 8.0590 - acc: 0.5000\n",
            "Epoch 7/20\n",
            " 1/50 [..............................] - ETA: 0s - loss: 1.1921e-07 - acc: 1.0000\n",
            " data/001 ['P01_01_01_4._body.txt', 'P01_01_01_0._body.txt', 'P01_01_01_2._body.txt', 'P01_01_01_3._body.txt', 'P01_01_01_1._body.txt']\n",
            "28/50 [===============>..............] - ETA: 0s - loss: 8.0590 - acc: 0.5000\n",
            " data/000 ['P01_01_00_4._body.txt', 'P01_01_00_0._body.txt', 'P01_01_00_3._body.txt', 'P01_01_00_2._body.txt', 'P01_01_00_1._body.txt']\n",
            "50/50 [==============================] - 1s 18ms/step - loss: 8.0590 - acc: 0.5000\n",
            "Epoch 8/20\n",
            " 1/50 [..............................] - ETA: 0s - loss: 1.1921e-07 - acc: 1.0000\n",
            " data/001 ['P01_01_01_4._body.txt', 'P01_01_01_0._body.txt', 'P01_01_01_2._body.txt', 'P01_01_01_3._body.txt', 'P01_01_01_1._body.txt']\n",
            "28/50 [===============>..............] - ETA: 0s - loss: 8.0590 - acc: 0.5000\n",
            " data/000 ['P01_01_00_4._body.txt', 'P01_01_00_0._body.txt', 'P01_01_00_3._body.txt', 'P01_01_00_2._body.txt', 'P01_01_00_1._body.txt']\n",
            "50/50 [==============================] - 1s 18ms/step - loss: 8.0590 - acc: 0.5000\n",
            "Epoch 9/20\n",
            " 1/50 [..............................] - ETA: 0s - loss: 1.1921e-07 - acc: 1.0000\n",
            " data/001 ['P01_01_01_4._body.txt', 'P01_01_01_0._body.txt', 'P01_01_01_2._body.txt', 'P01_01_01_3._body.txt', 'P01_01_01_1._body.txt']\n",
            "28/50 [===============>..............] - ETA: 0s - loss: 8.0590 - acc: 0.5000\n",
            " data/000 ['P01_01_00_4._body.txt', 'P01_01_00_0._body.txt', 'P01_01_00_3._body.txt', 'P01_01_00_2._body.txt', 'P01_01_00_1._body.txt']\n",
            "50/50 [==============================] - 1s 18ms/step - loss: 8.0590 - acc: 0.5000\n",
            "Epoch 10/20\n",
            " 1/50 [..............................] - ETA: 0s - loss: 1.1921e-07 - acc: 1.0000\n",
            " data/001 ['P01_01_01_4._body.txt', 'P01_01_01_0._body.txt', 'P01_01_01_2._body.txt', 'P01_01_01_3._body.txt', 'P01_01_01_1._body.txt']\n",
            "28/50 [===============>..............] - ETA: 0s - loss: 8.0590 - acc: 0.5000\n",
            " data/000 ['P01_01_00_4._body.txt', 'P01_01_00_0._body.txt', 'P01_01_00_3._body.txt', 'P01_01_00_2._body.txt', 'P01_01_00_1._body.txt']\n",
            "50/50 [==============================] - 1s 18ms/step - loss: 8.0590 - acc: 0.5000\n",
            "Epoch 11/20\n",
            " 1/50 [..............................] - ETA: 0s - loss: 1.1921e-07 - acc: 1.0000\n",
            " data/001 ['P01_01_01_4._body.txt', 'P01_01_01_0._body.txt', 'P01_01_01_2._body.txt', 'P01_01_01_3._body.txt', 'P01_01_01_1._body.txt']\n",
            "28/50 [===============>..............] - ETA: 0s - loss: 8.0590 - acc: 0.5000\n",
            " data/000 ['P01_01_00_4._body.txt', 'P01_01_00_0._body.txt', 'P01_01_00_3._body.txt', 'P01_01_00_2._body.txt', 'P01_01_00_1._body.txt']\n",
            "50/50 [==============================] - 1s 18ms/step - loss: 8.0590 - acc: 0.5000\n",
            "Epoch 12/20\n",
            " 1/50 [..............................] - ETA: 0s - loss: 1.1921e-07 - acc: 1.0000\n",
            " data/001 ['P01_01_01_4._body.txt', 'P01_01_01_0._body.txt', 'P01_01_01_2._body.txt', 'P01_01_01_3._body.txt', 'P01_01_01_1._body.txt']\n",
            "28/50 [===============>..............] - ETA: 0s - loss: 8.0590 - acc: 0.5000\n",
            " data/000 ['P01_01_00_4._body.txt', 'P01_01_00_0._body.txt', 'P01_01_00_3._body.txt', 'P01_01_00_2._body.txt', 'P01_01_00_1._body.txt']\n",
            "50/50 [==============================] - 1s 18ms/step - loss: 8.0590 - acc: 0.5000\n",
            "Epoch 13/20\n",
            " 1/50 [..............................] - ETA: 0s - loss: 1.1921e-07 - acc: 1.0000\n",
            " data/001 ['P01_01_01_4._body.txt', 'P01_01_01_0._body.txt', 'P01_01_01_2._body.txt', 'P01_01_01_3._body.txt', 'P01_01_01_1._body.txt']\n",
            "28/50 [===============>..............] - ETA: 0s - loss: 8.0590 - acc: 0.5000\n",
            " data/000 ['P01_01_00_4._body.txt', 'P01_01_00_0._body.txt', 'P01_01_00_3._body.txt', 'P01_01_00_2._body.txt', 'P01_01_00_1._body.txt']\n",
            "50/50 [==============================] - 1s 18ms/step - loss: 8.0590 - acc: 0.5000\n",
            "Epoch 14/20\n",
            " 1/50 [..............................] - ETA: 0s - loss: 1.1921e-07 - acc: 1.0000\n",
            " data/001 ['P01_01_01_4._body.txt', 'P01_01_01_0._body.txt', 'P01_01_01_2._body.txt', 'P01_01_01_3._body.txt', 'P01_01_01_1._body.txt']\n",
            "26/50 [==============>...............] - ETA: 0s - loss: 7.4391 - acc: 0.5385\n",
            " data/000 ['P01_01_00_4._body.txt', 'P01_01_00_0._body.txt', 'P01_01_00_3._body.txt', 'P01_01_00_2._body.txt', 'P01_01_00_1._body.txt']\n",
            "50/50 [==============================] - 1s 18ms/step - loss: 8.0590 - acc: 0.5000\n",
            "Epoch 15/20\n",
            " 1/50 [..............................] - ETA: 0s - loss: 1.1921e-07 - acc: 1.0000\n",
            " data/001 ['P01_01_01_4._body.txt', 'P01_01_01_0._body.txt', 'P01_01_01_2._body.txt', 'P01_01_01_3._body.txt', 'P01_01_01_1._body.txt']\n",
            "28/50 [===============>..............] - ETA: 0s - loss: 8.0590 - acc: 0.5000\n",
            " data/000 ['P01_01_00_4._body.txt', 'P01_01_00_0._body.txt', 'P01_01_00_3._body.txt', 'P01_01_00_2._body.txt', 'P01_01_00_1._body.txt']\n",
            "50/50 [==============================] - 1s 18ms/step - loss: 8.0590 - acc: 0.5000\n",
            "Epoch 16/20\n",
            " 1/50 [..............................] - ETA: 0s - loss: 1.1921e-07 - acc: 1.0000\n",
            " data/001 ['P01_01_01_4._body.txt', 'P01_01_01_0._body.txt', 'P01_01_01_2._body.txt', 'P01_01_01_3._body.txt', 'P01_01_01_1._body.txt']\n",
            "28/50 [===============>..............] - ETA: 0s - loss: 8.0590 - acc: 0.5000\n",
            " data/000 ['P01_01_00_4._body.txt', 'P01_01_00_0._body.txt', 'P01_01_00_3._body.txt', 'P01_01_00_2._body.txt', 'P01_01_00_1._body.txt']\n",
            "50/50 [==============================] - 1s 18ms/step - loss: 8.0590 - acc: 0.5000\n",
            "Epoch 17/20\n",
            " 1/50 [..............................] - ETA: 0s - loss: 1.1921e-07 - acc: 1.0000\n",
            " data/001 ['P01_01_01_4._body.txt', 'P01_01_01_0._body.txt', 'P01_01_01_2._body.txt', 'P01_01_01_3._body.txt', 'P01_01_01_1._body.txt']\n",
            "28/50 [===============>..............] - ETA: 0s - loss: 8.0590 - acc: 0.5000\n",
            " data/000 ['P01_01_00_4._body.txt', 'P01_01_00_0._body.txt', 'P01_01_00_3._body.txt', 'P01_01_00_2._body.txt', 'P01_01_00_1._body.txt']\n",
            "50/50 [==============================] - 1s 18ms/step - loss: 8.0590 - acc: 0.5000\n",
            "Epoch 18/20\n",
            " 1/50 [..............................] - ETA: 0s - loss: 1.1921e-07 - acc: 1.0000\n",
            " data/001 ['P01_01_01_4._body.txt', 'P01_01_01_0._body.txt', 'P01_01_01_2._body.txt', 'P01_01_01_3._body.txt', 'P01_01_01_1._body.txt']\n",
            "26/50 [==============>...............] - ETA: 0s - loss: 7.4391 - acc: 0.5385\n",
            " data/000 ['P01_01_00_4._body.txt', 'P01_01_00_0._body.txt', 'P01_01_00_3._body.txt', 'P01_01_00_2._body.txt', 'P01_01_00_1._body.txt']\n",
            "50/50 [==============================] - 1s 18ms/step - loss: 8.0590 - acc: 0.5000\n",
            "Epoch 19/20\n",
            " 1/50 [..............................] - ETA: 0s - loss: 1.1921e-07 - acc: 1.0000\n",
            " data/001 ['P01_01_01_4._body.txt', 'P01_01_01_0._body.txt', 'P01_01_01_2._body.txt', 'P01_01_01_3._body.txt', 'P01_01_01_1._body.txt']\n",
            "27/50 [===============>..............] - ETA: 0s - loss: 7.7606 - acc: 0.5185\n",
            " data/000 ['P01_01_00_4._body.txt', 'P01_01_00_0._body.txt', 'P01_01_00_3._body.txt', 'P01_01_00_2._body.txt', 'P01_01_00_1._body.txt']\n",
            "50/50 [==============================] - 1s 19ms/step - loss: 8.0590 - acc: 0.5000\n",
            "Epoch 20/20\n",
            " 1/50 [..............................] - ETA: 0s - loss: 1.1921e-07 - acc: 1.0000\n",
            " data/001 ['P01_01_01_4._body.txt', 'P01_01_01_0._body.txt', 'P01_01_01_2._body.txt', 'P01_01_01_3._body.txt', 'P01_01_01_1._body.txt']\n",
            "28/50 [===============>..............] - ETA: 0s - loss: 8.0590 - acc: 0.5000\n",
            " data/000 ['P01_01_00_4._body.txt', 'P01_01_00_0._body.txt', 'P01_01_00_3._body.txt', 'P01_01_00_2._body.txt', 'P01_01_00_1._body.txt']\n",
            "50/50 [==============================] - 1s 18ms/step - loss: 8.0590 - acc: 0.5000\n"
          ],
          "name": "stdout"
        },
        {
          "output_type": "execute_result",
          "data": {
            "text/plain": [
              "<keras.callbacks.History at 0x7fe320aa7be0>"
            ]
          },
          "metadata": {
            "tags": []
          },
          "execution_count": 16
        }
      ]
    },
    {
      "cell_type": "code",
      "metadata": {
        "id": "XOfck48Kq9PX",
        "colab_type": "code",
        "colab": {}
      },
      "source": [
        ""
      ],
      "execution_count": 0,
      "outputs": []
    }
  ]
}